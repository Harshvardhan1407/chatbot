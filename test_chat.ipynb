{
 "cells": [
  {
   "cell_type": "code",
   "execution_count": 4,
   "metadata": {},
   "outputs": [],
   "source": [
    "import pandas as pd\n",
    "import requests\n",
    "import json\n",
    "import re\n",
    "import os\n",
    "from dotenv import load_dotenv\n",
    "\n",
    "load_dotenv()"
   ]
  },
  {
   "cell_type": "code",
   "execution_count": 3,
   "metadata": {},
   "outputs": [],
   "source": [
    "class openai:\n",
    "    def __init__(self) -> None:\n",
    "        pass\n",
    "\n",
    "    def consumer_details(self):\n",
    "        try:\n",
    "            \"\"\"get consumer details\"\"\"\n",
    "            url = os.getenv(\"vapt_api\") \n",
    "            response = requests.get(url )\n",
    "\n",
    "            if response.status_code == 200:\n",
    "                print(\"consumer details success\")\n",
    "                return response.json() \n",
    "        except Exception as e:\n",
    "            print(\"consumer details error:\", e)\n",
    "\n",
    "    def get_population(self,year):\n",
    "        \"\"\"get usa population\"\"\"\n",
    "        url = \"https://datausa.io/api/data?drilldowns=Nation&measures=Population\"\n",
    "        response = requests.get(url )\n",
    "    \n",
    "        if response.status_code == 200:\n",
    "            # print(\"Success:\", response.json())\n",
    "            print(\"usa popluation data success\")\n",
    "            return response.json()\n",
    "        else:\n",
    "            print(\"Error in api:\", response.status_code, response.text)\n",
    "    \n",
    "    def get_current_weather(self, location, unit=\"celcius\"):\n",
    "        \"\"\"Get the current weather in a given location\"\"\"\n",
    "        if \"tokyo\" in location.lower():\n",
    "            return json.dumps({\"location\": \"Tokyo\", \"temperature\": \"10\", \"unit\": unit})\n",
    "        elif \"san francisco\" in location.lower():\n",
    "            return json.dumps({\"location\": \"San Francisco\", \"temperature\": \"32\", \"unit\": unit})\n",
    "        elif \"paris\" in location.lower():\n",
    "            return json.dumps({\"location\": \"Paris\", \"temperature\": \"22\", \"unit\": unit})\n",
    "        else:\n",
    "            return json.dumps({\"location\": location, \"temperature\": \"unknown\"})\n",
    "        \n",
    "    def format_currency_as_rupees(self,response):\n",
    "        # Use regex to find and replace dollar amounts with rupees\n",
    "        return re.sub(r'\\$\\s*([\\d,]+(?:\\.\\d+)?)', r'₹\\1', response)"
   ]
  },
  {
   "cell_type": "code",
   "execution_count": null,
   "metadata": {},
   "outputs": [],
   "source": []
  }
 ],
 "metadata": {
  "kernelspec": {
   "display_name": "botenv",
   "language": "python",
   "name": "python3"
  },
  "language_info": {
   "codemirror_mode": {
    "name": "ipython",
    "version": 3
   },
   "file_extension": ".py",
   "mimetype": "text/x-python",
   "name": "python",
   "nbconvert_exporter": "python",
   "pygments_lexer": "ipython3",
   "version": "3.11.6"
  }
 },
 "nbformat": 4,
 "nbformat_minor": 2
}
