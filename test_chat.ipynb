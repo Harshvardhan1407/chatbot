{
 "cells": [
  {
   "cell_type": "code",
   "execution_count": 5,
   "metadata": {},
   "outputs": [
    {
     "name": "stdout",
     "output_type": "stream",
     "text": [
      "{\n",
      "    \"winners\": [\n",
      "        \"2018 - France\",\n",
      "        \"2014 - Germany\",\n",
      "        \"2010 - Spain\",\n",
      "        \"2006 - Italy\",\n",
      "        \"2002 - Brazil\"\n",
      "    ]\n",
      "}\n"
     ]
    }
   ],
   "source": [
    "from openai import OpenAI\n",
    "import os\n",
    "client = OpenAI()\n",
    "\n",
    "response = client.chat.completions.create(\n",
    "  model=os.getenv(\"GPT_MODEL\"),\n",
    "  response_format={ \"type\": \"json_object\" },\n",
    "  messages=[\n",
    "    {\"role\": \"system\", \"content\": \"You are a helpful assistant designed to output JSON.\"},\n",
    "    {\"role\": \"user\", \"content\": \"last 5 fifa worldcup winner?\"}\n",
    "  ]\n",
    ")\n",
    "print(response.choices[0].message.content)"
   ]
  },
  {
   "cell_type": "code",
   "execution_count": 22,
   "metadata": {},
   "outputs": [
    {
     "name": "stdout",
     "output_type": "stream",
     "text": [
      "ChatCompletionMessage(content=\"Today's date is October 21, 2023.\", role='assistant', function_call=None, tool_calls=None)\n"
     ]
    }
   ],
   "source": [
    "from openai import OpenAI\n",
    "import json\n",
    "\n",
    "client = OpenAI()\n",
    "\n",
    "# Example dummy function hard coded to return the same weather\n",
    "# In production, this could be your backend API or an external API\n",
    "def get_current_weather(location, unit=\"fahrenheit\"):\n",
    "    \"\"\"Get the current weather in a given location\"\"\"\n",
    "    if \"tokyo\" in location.lower():\n",
    "        return json.dumps({\"location\": \"Tokyo\", \"temperature\": \"10\", \"unit\": unit})\n",
    "    elif \"san francisco\" in location.lower():\n",
    "        return json.dumps({\"location\": \"San Francisco\", \"temperature\": \"72\", \"unit\": unit})\n",
    "    elif \"paris\" in location.lower():\n",
    "        return json.dumps({\"location\": \"Paris\", \"temperature\": \"22\", \"unit\": unit})\n",
    "    else:\n",
    "        return json.dumps({\"location\": location, \"temperature\": \"unknown\"})\n",
    "\n",
    "def run_conversation():\n",
    "    # Step 1: send the conversation and available functions to the model\n",
    "    messages = [{\"role\": \"user\", \"content\": \"What date is today?\"}]\n",
    "    tools = [\n",
    "        {\n",
    "            \"type\": \"function\",\n",
    "            \"function\": {\n",
    "                \"name\": \"get_current_weather\",\n",
    "                \"description\": \"Get the current weather in a given location\",\n",
    "                \"parameters\": {\n",
    "                    \"type\": \"object\",\n",
    "                    \"properties\": {\n",
    "                        \"location\": {\n",
    "                            \"type\": \"string\",\n",
    "                            \"description\": \"The city and state, e.g. San Francisco, CA\",\n",
    "                        },\n",
    "                        \"unit\": {\"type\": \"string\", \"enum\": [\"celsius\"]},\n",
    "                    },\n",
    "                    \"required\": [\"location\"],\n",
    "                },\n",
    "            },\n",
    "        }\n",
    "    ]\n",
    "    response = client.chat.completions.create(\n",
    "        model=\"gpt-4o\",\n",
    "        messages=messages,\n",
    "        tools=tools,\n",
    "        tool_choice=\"auto\",  # auto is default, but we'll be explicit\n",
    "    )\n",
    "    response_message = response.choices[0].message\n",
    "    print(response_message)\n",
    "    tool_calls = response_message.tool_calls\n",
    "    # Step 2: check if the model wanted to call a function\n",
    "    if tool_calls:\n",
    "        # Step 3: call the function\n",
    "        # Note: the JSON response may not always be valid; be sure to handle errors\n",
    "        available_functions = {\n",
    "            \"get_current_weather\": get_current_weather,\n",
    "        }  # only one function in this example, but you can have multiple\n",
    "        messages.append(response_message)  # extend conversation with assistant's reply\n",
    "        # Step 4: send the info for each function call and function response to the model\n",
    "        for tool_call in tool_calls:\n",
    "            function_name = tool_call.function.name\n",
    "            function_to_call = available_functions[function_name]\n",
    "            function_args = json.loads(tool_call.function.arguments)\n",
    "            function_response = function_to_call(\n",
    "                location=function_args.get(\"location\"),\n",
    "                unit=function_args.get(\"unit\"),\n",
    "            )\n",
    "            messages.append(\n",
    "                {\n",
    "                    \"tool_call_id\": tool_call.id,\n",
    "                    \"role\": \"tool\",\n",
    "                    \"name\": function_name,\n",
    "                    \"content\": function_response,\n",
    "                }\n",
    "            )  # extend conversation with function response\n",
    "        second_response = client.chat.completions.create(\n",
    "            model=\"gpt-4o\",\n",
    "            messages=messages,\n",
    "        )  # get a new response from the model where it can see the function response\n",
    "        return second_response\n",
    "output = run_conversation()\n"
   ]
  },
  {
   "cell_type": "code",
   "execution_count": 21,
   "metadata": {},
   "outputs": [
    {
     "ename": "AttributeError",
     "evalue": "'NoneType' object has no attribute 'choices'",
     "output_type": "error",
     "traceback": [
      "\u001b[1;31m---------------------------------------------------------------------------\u001b[0m",
      "\u001b[1;31mAttributeError\u001b[0m                            Traceback (most recent call last)",
      "Cell \u001b[1;32mIn[21], line 1\u001b[0m\n\u001b[1;32m----> 1\u001b[0m \u001b[43moutput\u001b[49m\u001b[38;5;241;43m.\u001b[39;49m\u001b[43mchoices\u001b[49m[\u001b[38;5;241m0\u001b[39m]\u001b[38;5;241m.\u001b[39mmessage\u001b[38;5;241m.\u001b[39mcontent\n",
      "\u001b[1;31mAttributeError\u001b[0m: 'NoneType' object has no attribute 'choices'"
     ]
    }
   ],
   "source": [
    "output.choices[0].message.content"
   ]
  },
  {
   "cell_type": "code",
   "execution_count": 4,
   "metadata": {},
   "outputs": [
    {
     "name": "stdout",
     "output_type": "stream",
     "text": [
      "Success: {'data': [{'ID Nation': '01000US', 'Nation': 'United States', 'ID Year': 2022, 'Year': '2022', 'Population': 331097593, 'Slug Nation': 'united-states'}, {'ID Nation': '01000US', 'Nation': 'United States', 'ID Year': 2021, 'Year': '2021', 'Population': 329725481, 'Slug Nation': 'united-states'}, {'ID Nation': '01000US', 'Nation': 'United States', 'ID Year': 2020, 'Year': '2020', 'Population': 326569308, 'Slug Nation': 'united-states'}, {'ID Nation': '01000US', 'Nation': 'United States', 'ID Year': 2019, 'Year': '2019', 'Population': 324697795, 'Slug Nation': 'united-states'}, {'ID Nation': '01000US', 'Nation': 'United States', 'ID Year': 2018, 'Year': '2018', 'Population': 322903030, 'Slug Nation': 'united-states'}, {'ID Nation': '01000US', 'Nation': 'United States', 'ID Year': 2017, 'Year': '2017', 'Population': 321004407, 'Slug Nation': 'united-states'}, {'ID Nation': '01000US', 'Nation': 'United States', 'ID Year': 2016, 'Year': '2016', 'Population': 318558162, 'Slug Nation': 'united-states'}, {'ID Nation': '01000US', 'Nation': 'United States', 'ID Year': 2015, 'Year': '2015', 'Population': 316515021, 'Slug Nation': 'united-states'}, {'ID Nation': '01000US', 'Nation': 'United States', 'ID Year': 2014, 'Year': '2014', 'Population': 314107084, 'Slug Nation': 'united-states'}, {'ID Nation': '01000US', 'Nation': 'United States', 'ID Year': 2013, 'Year': '2013', 'Population': 311536594, 'Slug Nation': 'united-states'}], 'source': [{'measures': ['Population'], 'annotations': {'source_name': 'Census Bureau', 'source_description': 'The American Community Survey (ACS) is conducted by the US Census and sent to a portion of the population every year.', 'dataset_name': 'ACS 5-year Estimate', 'dataset_link': 'http://www.census.gov/programs-surveys/acs/', 'table_id': 'B01003', 'topic': 'Diversity', 'subtopic': 'Demographics'}, 'name': 'acs_yg_total_population_5', 'substitutions': []}]}\n",
      "None\n"
     ]
    }
   ],
   "source": [
    "import requests\n",
    "def get_population():\n",
    "        \"\"\"get usa population\"\"\"\n",
    "        url = \"https://datausa.io/api/data?drilldowns=Nation&measures=Population\"\n",
    "        response = requests.get(url )\n",
    "    \n",
    "        if response.status_code == 200:\n",
    "            print(\"Success:\", response.json())\n",
    "        else:\n",
    "            print(\"Error:\", response.status_code, response.text)\n",
    "print(get_population())"
   ]
  },
  {
   "cell_type": "code",
   "execution_count": 8,
   "metadata": {},
   "outputs": [
    {
     "name": "stdout",
     "output_type": "stream",
     "text": [
      "The population of the USA in 2019 was approximately 324,697,795.\n"
     ]
    }
   ],
   "source": [
    "import requests\n",
    "from openai import OpenAI\n",
    "\n",
    "# Fetch data from the API\n",
    "def fetch_data():\n",
    "    url = \"https://datausa.io/api/data?drilldowns=Nation&measures=Population\"\n",
    "    response = requests.get(url)\n",
    "    if response.status_code == 200:\n",
    "        return response.json()\n",
    "    else:\n",
    "        return None\n",
    "client  = OpenAI()\n",
    "# Generate a response using OpenAI's chat completion\n",
    "def generate_response(data):\n",
    "    \n",
    "    # Construct the message with fetched data\n",
    "    message = f\"The latest population data for the USA is as follows:\\n{data}\"\n",
    "    \n",
    "    # Create a chat completion request\n",
    "    response = client.chat.completions.create(\n",
    "        model=\"gpt-3.5-turbo-0125\",  # or the model you are using\n",
    "        messages=[\n",
    "            {\"role\": \"system\", \"content\": \"You are a helpful assistant.\"},\n",
    "            {\"role\": \"user\", \"content\": \"Can you provide the population data for the USA in 2019?\"},\n",
    "            {\"role\": \"assistant\", \"content\": message}\n",
    "        ]\n",
    "    )\n",
    "    \n",
    "    # Extract and return the assistant's reply\n",
    "    return response.choices[0].message.content\n",
    "\n",
    "# Main function to fetch data and generate response\n",
    "def main():\n",
    "    data = fetch_data()\n",
    "    if data:\n",
    "        response = generate_response(data)\n",
    "        print(response)\n",
    "    else:\n",
    "        print(\"Failed to fetch data from the API.\")\n",
    "\n",
    "if __name__ == \"__main__\":\n",
    "    main()\n"
   ]
  },
  {
   "cell_type": "code",
   "execution_count": 13,
   "metadata": {},
   "outputs": [
    {
     "name": "stdout",
     "output_type": "stream",
     "text": [
      "cat fact data success\n",
      "{'rc': 0, 'message': 'SUCCESS', 'application': 'AMR', 'welcome_message': \"Now, track your electricity consumption on your phone! Xenius SEMS app allows you to monitor your consumption, recharge your prepaid meters online and also compare your electricity bills over time.What's more? This version of the app opens up possibilities of viewing your sanctioned load, setting notifications for Source Change, Low Balance, Power Cut / Restore and more.Facing any issues? Get connected with the support team through your Settings. We hope our app helps you track your electricity usage and optimise accordingly.\", 'app_base_url': 'www.myxenius.com', 'payment_trans': 'If the recharge is conducted using a Debit/Commercial/Corporate Card, MDR charges will be subtracted from the recharge amount', 'resource': {'android_version': '15', 'ios_version': '1', 'mobile_app_status': 'Y', 'location_id': '2121901', 'tp_token_id': '212190142a', 'ism_token': None, 'login_count': '226', 'device_app_ver': '1.0.5', 'flat_number': 'FF5', 'consumer_name': 'TEST ACCOUNT', 'consumer_mobile_no': '9711045404', 'consumer_email_id': 'indrajeet.prajapati@radius.co.in', 'balance_amount': '-77871.42', 'last_recharge_time': '2024-06-26 19:14:37', 'last_coupon_number': 'ZP2456362729141839516', 'last_coupon_amount': '100.00', 'dg_reading': '2063.0900', 'grid_reading': '7729.5400', 'last_reading_updated': '2018-11-27 15:29:51', 'notification_email': 'Y', 'notification_sms': 'N', 'notification_ivrs': 'Y', 'notification_app_load': 'Y', 'notification_app_balance': 'Y', 'low_bal_alert': '369', 'notification_app_esource': 'Y', 'notification_app_unit_consumption': 'N', 'alert_daily_consumption_grid': '2.000', 'alert_daily_consumption_dg': '2.000', 'load_setting_enabled': 'N', 'power_cut_restore_notification': 'Y', 'recharge_notification': 'Y', 'last_reading_alert_notification': 'N', 'grid_sanctioned_load': '9.00', 'dg_sanctioned_load': '5.00', 'load_unit': 'KW', 'meter_serial_no': '25403', 'meter_type': '1', 'grid_load_alarm': '0.000', 'dg_load_alarm': '0.000', 'grid_overload_setting': '255', 'dg_overload_setting': '0', 'grid_overload_from_time': '0000', 'grid_overload_to_time': '0000', 'dg_overload_from_time': '0000', 'dg_overload_to_time': '0000', 'overload_grid': 'Y', 'overload_dg': 'N', 'overview_fc_name': 'Fixed Charges', 'site_id': '54acdb8751ca65.28087018', 'site_name': 'H98 AMR DL Demo', 'site_address': 'Sector12', 'site_city': 'Lucknow', 'site_state': 'UP', 'site_country': 'India', 'site_zipcode': '201301', 'site_supervisor_name': 'Rahul', 'site_supervisor_contact_no': '8800569457', 'site_supervisor_email_id': 'akash.singhal@radius.co.in', 'site_support_concern_name': 'Satyam Tiwari', 'site_support_contact_no': '8800292709', 'site_support_email_id': 'indrajeet.prajapati@radius.co.in', 'main_license': None, 'application': 'AMR', 'reading_unit': 'kWh', 'currency': 'RS', 'site_code': '2121', 'soco_integration': 'Y', 'isociety_integration': 'N', 'isociety_site_id': 'N', 'balance_enable': 'Y', 'reading_enable': 'Y', 'monthly_bill_enable': 'Y', 'monthly_bill_no_of_month': '2', 'PLM': 'N', 'pg_enable': 'N', 'pg_enable_paytm': 'N', 'pg_enable_mobikwik': 'N', 'pg_enable_hdfc': 'N', 'paytm_mobile_url': 'http://m.p-y.tm/ggnprk', 'mobikwik_mobile_url': 'https://m.mobikwik.com/housing?siteCode=2121&cn=', 'pg_enable_hdfc_v1': 'Y', 'pg_enable_v1': 'Y', 'pg_enable_paytm_v1': 'N', 'pg_enable_mobikwik_v1': 'N', 'recharge_transitional_charge': '0.00', 'recharge_tax': '0.00', 'paytm_image': '', 'min_recharge': '1.00', 'max_recharge': '200000.00', 'recharge_transitional_name': 'IGST(18%)', 'recharge_popup_message': 'T', 'pg_popup_msg': 'Y', 'MygateIntegration': 'N', 'evcdIntegration': 'N', 'evcdId': '', 'evcdDGIntegration': 'Y', 'evcdURL': 'https://radiusm2m.com', 'MygatePackageNameAndroid': 'N', 'MygatePackageNameIOS': 'N', 'current_status': 'Overload GRID', 'energy_source': 'DG', 'last_reading_updated_dg': '2022-01-18 15:56:17', 'display_load_setting_screen': 'N', 'daily_dg_unit': '0', 'daily_grid_unit': '0', 'monthly_dg_unit': 0, 'monthly_grid_unit': 0, 'daily_dg_amount': 0, 'daily_grid_amount': 0, 'fix_charges_monthly': 0, 'monthly_dg_amount': 0, 'monthly_grid_amount': 0, 'fix_charges': 0, 'dr_cr': '0', 'dr_cr_monthly': 0, 'autorefresh': 5, 'monthly_bill_key': 'Monthly Statement', 'msg': 'Stay Home. Stay Safe. Recharge Electricity Online ', 'web_url': 'https://vapt-mp.myxenius.com/AppAMR/HdfcRechargeView/MjEyMTkwMQ==/UmFkaXVzQDEyMzQ=/MS4wMA==/MjAwMDAwLjAw/MC4wMA==/MC4wMA==', 'pic1': 'https://myxenius.com/app_images/pic1.png', 'pic2': 'https://myxenius.com/app_images/pic2.png', 'pic3': 'https://myxenius.com/app_images/pic3.png', 'pic4': 'https://myxenius.com/app_images/pic4.png'}}\n"
     ]
    }
   ],
   "source": [
    "def get_cat_fact():\n",
    "    url = \"https://vapt-mp.myxenius.com/thirdparty/api/login?login_id=2121901&password=2121901\"\n",
    "    response = requests.get(url )\n",
    "\n",
    "    if response.status_code == 200:\n",
    "        # print(\"Success:\", response.json())\n",
    "        print(\"cat fact data success\")\n",
    "\n",
    "        return response.json()\n",
    "    else:\n",
    "        print(\"Error in cat fact:\", response.status_code, response.text)\n",
    "print(get_cat_fact())"
   ]
  },
  {
   "cell_type": "code",
   "execution_count": null,
   "metadata": {},
   "outputs": [],
   "source": []
  }
 ],
 "metadata": {
  "kernelspec": {
   "display_name": "botenv",
   "language": "python",
   "name": "python3"
  },
  "language_info": {
   "codemirror_mode": {
    "name": "ipython",
    "version": 3
   },
   "file_extension": ".py",
   "mimetype": "text/x-python",
   "name": "python",
   "nbconvert_exporter": "python",
   "pygments_lexer": "ipython3",
   "version": "3.11.6"
  }
 },
 "nbformat": 4,
 "nbformat_minor": 2
}
