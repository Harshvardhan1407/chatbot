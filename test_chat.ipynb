{
 "cells": [
  {
   "cell_type": "code",
   "execution_count": 1,
   "metadata": {},
   "outputs": [],
   "source": [
    "! pip install scipy --quiet\n",
    "! pip install tenacity --quiet\n",
    "! pip install tiktoken --quiet\n",
    "! pip install termcolor --quiet\n",
    "! pip install openai --quiet"
   ]
  },
  {
   "cell_type": "code",
   "execution_count": 1,
   "metadata": {},
   "outputs": [],
   "source": [
    "import json\n",
    "from openai import OpenAI\n",
    "from tenacity import retry, wait_random_exponential, stop_after_attempt\n",
    "from termcolor import colored  \n",
    "import os\n",
    "# client = OpenAI()\n",
    "client = OpenAI(api_key=os.getenv(\"OPENAI_API_KEY\"))\n",
    "GPT_MODEL= os.getenv(\"GPT_MODEL\")\n"
   ]
  },
  {
   "cell_type": "code",
   "execution_count": 2,
   "metadata": {},
   "outputs": [],
   "source": [
    "@retry(wait=wait_random_exponential(multiplier=1, max=40), stop=stop_after_attempt(3))\n",
    "def chat_completion_request(messages, tools=None, tool_choice=None, model=GPT_MODEL):\n",
    "    try:\n",
    "        response = client.chat.completions.create(\n",
    "            model=model,\n",
    "            messages=messages,\n",
    "            tools=tools,\n",
    "            tool_choice=tool_choice,\n",
    "        )\n",
    "        return response\n",
    "    except Exception as e:\n",
    "        print(\"Unable to generate ChatCompletion response\")\n",
    "        print(f\"Exception: {e}\")\n",
    "        return e\n",
    "def pretty_print_conversation(messages):\n",
    "    role_to_color = {\n",
    "        \"system\": \"red\",\n",
    "        \"user\": \"green\",\n",
    "        \"assistant\": \"blue\",\n",
    "        \"function\": \"magenta\",\n",
    "    }\n",
    "    \n",
    "    for message in messages:\n",
    "        if message[\"role\"] == \"system\":\n",
    "            print(colored(f\"system: {message['content']}\\n\", role_to_color[message[\"role\"]]))\n",
    "        elif message[\"role\"] == \"user\":\n",
    "            print(colored(f\"user: {message['content']}\\n\", role_to_color[message[\"role\"]]))\n",
    "        elif message[\"role\"] == \"assistant\" and message.get(\"function_call\"):\n",
    "            print(colored(f\"assistant: {message['function_call']}\\n\", role_to_color[message[\"role\"]]))\n",
    "        elif message[\"role\"] == \"assistant\" and not message.get(\"function_call\"):\n",
    "            print(colored(f\"assistant: {message['content']}\\n\", role_to_color[message[\"role\"]]))\n",
    "        elif message[\"role\"] == \"function\":\n",
    "            print(colored(f\"function ({message['name']}): {message['content']}\\n\", role_to_color[message[\"role\"]]))\n"
   ]
  },
  {
   "cell_type": "code",
   "execution_count": 3,
   "metadata": {},
   "outputs": [],
   "source": [
    "tools = [\n",
    "    {\n",
    "        \"type\": \"function\",\n",
    "        \"function\": {\n",
    "            \"name\": \"get_current_weather\",\n",
    "            \"description\": \"Get the current weather\",\n",
    "            \"parameters\": {\n",
    "                \"type\": \"object\",\n",
    "                \"properties\": {\n",
    "                    \"location\": {\n",
    "                        \"type\": \"string\",\n",
    "                        \"description\": \"The city and state, e.g. San Francisco, CA\",\n",
    "                    },\n",
    "                    \"format\": {\n",
    "                        \"type\": \"string\",\n",
    "                        \"enum\": [\"celsius\", \"fahrenheit\"],\n",
    "                        \"description\": \"The temperature unit to use. Infer this from the users location.\",\n",
    "                    },\n",
    "                },\n",
    "                \"required\": [\"location\", \"format\"],\n",
    "            },\n",
    "        }\n",
    "    },\n",
    "    {\n",
    "        \"type\": \"function\",\n",
    "        \"function\": {\n",
    "            \"name\": \"get_n_day_weather_forecast\",\n",
    "            \"description\": \"Get an N-day weather forecast\",\n",
    "            \"parameters\": {\n",
    "                \"type\": \"object\",\n",
    "                \"properties\": {\n",
    "                    \"location\": {\n",
    "                        \"type\": \"string\",\n",
    "                        \"description\": \"The city and state, e.g. San Francisco, CA\",\n",
    "                    },\n",
    "                    \"format\": {\n",
    "                        \"type\": \"string\",\n",
    "                        \"enum\": [\"celsius\", \"fahrenheit\"],\n",
    "                        \"description\": \"The temperature unit to use. Infer this from the users location.\",\n",
    "                    },\n",
    "                    \"num_days\": {\n",
    "                        \"type\": \"integer\",\n",
    "                        \"description\": \"The number of days to forecast\",\n",
    "                    }\n",
    "                },\n",
    "                \"required\": [\"location\", \"format\", \"num_days\"]\n",
    "            },\n",
    "        }\n",
    "    },\n",
    "]"
   ]
  },
  {
   "cell_type": "code",
   "execution_count": 23,
   "metadata": {},
   "outputs": [
    {
     "data": {
      "text/plain": [
       "'Sure, could you please provide me with your current location so that I can fetch the weather information for you?'"
      ]
     },
     "execution_count": 23,
     "metadata": {},
     "output_type": "execute_result"
    }
   ],
   "source": [
    "messages = []\n",
    "messages.append({\"role\": \"system\", \"content\": \"Don't make assumptions about what values to plug into functions. Ask for clarification if a user request is ambiguous.\"})\n",
    "messages.append({\"role\": \"user\", \"content\": \"What's the weather like today\"})\n",
    "chat_response = chat_completion_request(\n",
    "    messages, tools=tools\n",
    ")\n",
    "assistant_message = chat_response.choices[0].message\n",
    "messages.append(assistant_message)\n",
    "assistant_message.content\n"
   ]
  },
  {
   "cell_type": "code",
   "execution_count": 24,
   "metadata": {},
   "outputs": [
    {
     "data": {
      "text/plain": [
       "[{'role': 'system',\n",
       "  'content': \"Don't make assumptions about what values to plug into functions. Ask for clarification if a user request is ambiguous.\"},\n",
       " {'role': 'user', 'content': \"What's the weather like today\"},\n",
       " ChatCompletionMessage(content='Sure, could you please provide me with your current location so that I can fetch the weather information for you?', role='assistant', function_call=None, tool_calls=None)]"
      ]
     },
     "execution_count": 24,
     "metadata": {},
     "output_type": "execute_result"
    }
   ],
   "source": [
    "messages"
   ]
  },
  {
   "cell_type": "code",
   "execution_count": 25,
   "metadata": {},
   "outputs": [
    {
     "data": {
      "text/plain": [
       "ChatCompletionMessage(content=None, role='assistant', function_call=None, tool_calls=[ChatCompletionMessageToolCall(id='call_ox47RUymF068xbZHOCmBs01e', function=Function(arguments='{\"location\":\"Glasgow, Scotland\",\"format\":\"celsius\"}', name='get_current_weather'), type='function')])"
      ]
     },
     "execution_count": 25,
     "metadata": {},
     "output_type": "execute_result"
    }
   ],
   "source": [
    "messages.append({\"role\": \"user\", \"content\": \"I'm in Glasgow, Scotland.\"})\n",
    "chat_response = chat_completion_request(\n",
    "    messages, tools=tools\n",
    ")\n",
    "assistant_message = chat_response.choices[0].message\n",
    "messages.append(assistant_message)\n",
    "assistant_message\n"
   ]
  },
  {
   "cell_type": "code",
   "execution_count": 26,
   "metadata": {},
   "outputs": [
    {
     "data": {
      "text/plain": [
       "[{'role': 'system',\n",
       "  'content': \"Don't make assumptions about what values to plug into functions. Ask for clarification if a user request is ambiguous.\"},\n",
       " {'role': 'user', 'content': \"What's the weather like today\"},\n",
       " ChatCompletionMessage(content='Sure, could you please provide me with your current location so that I can fetch the weather information for you?', role='assistant', function_call=None, tool_calls=None),\n",
       " {'role': 'user', 'content': \"I'm in Glasgow, Scotland.\"},\n",
       " ChatCompletionMessage(content=None, role='assistant', function_call=None, tool_calls=[ChatCompletionMessageToolCall(id='call_ox47RUymF068xbZHOCmBs01e', function=Function(arguments='{\"location\":\"Glasgow, Scotland\",\"format\":\"celsius\"}', name='get_current_weather'), type='function')])]"
      ]
     },
     "execution_count": 26,
     "metadata": {},
     "output_type": "execute_result"
    }
   ],
   "source": [
    "messages"
   ]
  },
  {
   "cell_type": "code",
   "execution_count": 27,
   "metadata": {},
   "outputs": [
    {
     "data": {
      "text/plain": [
       "ChatCompletionMessage(content=None, role='assistant', function_call=None, tool_calls=[ChatCompletionMessageToolCall(id='call_GNTaCDQVCnO0Bh7jXI9xra2r', function=Function(arguments='{\"location\":\"Glasgow\",\"format\":\"celsius\"}', name='get_current_weather'), type='function')])"
      ]
     },
     "execution_count": 27,
     "metadata": {},
     "output_type": "execute_result"
    }
   ],
   "source": [
    "messages = []\n",
    "messages.append({\"role\": \"system\", \"content\": \"Don't make assumptions about what values to plug into functions. Ask for clarification if a user request is ambiguous.\"})\n",
    "messages.append({\"role\": \"user\", \"content\": \"what is the weather in Glasgow today\"})\n",
    "# messages.append({\"role\": \"user\", \"content\": \"what is the weather going to be like in Glasgow, Scotland over the next x days\"})\n",
    "\n",
    "chat_response = chat_completion_request(\n",
    "    messages, tools=tools\n",
    ")\n",
    "assistant_message = chat_response.choices[0].message\n",
    "messages.append(assistant_message)\n",
    "assistant_message\n"
   ]
  },
  {
   "cell_type": "code",
   "execution_count": 28,
   "metadata": {},
   "outputs": [
    {
     "data": {
      "text/plain": [
       "ChatCompletionMessage(content='Sure, I can help with that. Please provide the number of days for the weather forecast in Glasgow, Scotland.', role='assistant', function_call=None, tool_calls=None)"
      ]
     },
     "execution_count": 28,
     "metadata": {},
     "output_type": "execute_result"
    }
   ],
   "source": [
    "messages = []\n",
    "messages.append({\"role\": \"system\", \"content\": \"Don't make assumptions about what values to plug into functions. Ask for clarification if a user request is ambiguous.\"})\n",
    "messages.append({\"role\": \"user\", \"content\": \"what is the weather going to be like in Glasgow, Scotland over the next x days\"})\n",
    "chat_response = chat_completion_request(\n",
    "    messages, tools=tools\n",
    ")\n",
    "assistant_message = chat_response.choices[0].message\n",
    "messages.append(assistant_message)\n",
    "assistant_message\n"
   ]
  },
  {
   "cell_type": "code",
   "execution_count": 29,
   "metadata": {},
   "outputs": [
    {
     "data": {
      "text/plain": [
       "Choice(finish_reason='tool_calls', index=0, logprobs=None, message=ChatCompletionMessage(content=None, role='assistant', function_call=None, tool_calls=[ChatCompletionMessageToolCall(id='call_lZjGmuDaQTjsVSlqF4Uqg4hl', function=Function(arguments='{\"location\":\"Glasgow, Scotland\",\"format\":\"celsius\",\"num_days\":5}', name='get_n_day_weather_forecast'), type='function')]))"
      ]
     },
     "execution_count": 29,
     "metadata": {},
     "output_type": "execute_result"
    }
   ],
   "source": [
    "messages.append({\"role\": \"user\", \"content\": \"5 days\"})\n",
    "chat_response = chat_completion_request(\n",
    "    messages, tools=tools\n",
    ")\n",
    "chat_response.choices[0]\n"
   ]
  },
  {
   "cell_type": "code",
   "execution_count": 30,
   "metadata": {},
   "outputs": [
    {
     "data": {
      "text/plain": [
       "[{'role': 'system',\n",
       "  'content': \"Don't make assumptions about what values to plug into functions. Ask for clarification if a user request is ambiguous.\"},\n",
       " {'role': 'user',\n",
       "  'content': 'what is the weather going to be like in Glasgow, Scotland over the next x days'},\n",
       " ChatCompletionMessage(content='Sure, I can help with that. Please provide the number of days for the weather forecast in Glasgow, Scotland.', role='assistant', function_call=None, tool_calls=None),\n",
       " {'role': 'user', 'content': '5 days'}]"
      ]
     },
     "execution_count": 30,
     "metadata": {},
     "output_type": "execute_result"
    }
   ],
   "source": [
    "messages"
   ]
  },
  {
   "cell_type": "code",
   "execution_count": 31,
   "metadata": {},
   "outputs": [
    {
     "data": {
      "text/plain": [
       "ChatCompletionMessage(content=None, role='assistant', function_call=None, tool_calls=[ChatCompletionMessageToolCall(id='call_4MVEzhpdLd7eZEJjvzgGPQLq', function=Function(arguments='{\"location\":\"Toronto, Canada\",\"format\":\"celsius\",\"num_days\":1}', name='get_n_day_weather_forecast'), type='function')])"
      ]
     },
     "execution_count": 31,
     "metadata": {},
     "output_type": "execute_result"
    }
   ],
   "source": [
    "# in this cell we force the model to use get_n_day_weather_forecast\n",
    "messages = []\n",
    "messages.append({\"role\": \"system\", \"content\": \"Don't make assumptions about what values to plug into functions. Ask for clarification if a user request is ambiguous.\"})\n",
    "messages.append({\"role\": \"user\", \"content\": \"Give me a weather report for Toronto, Canada.\"})\n",
    "chat_response = chat_completion_request(\n",
    "    messages, tools=tools, tool_choice={\"type\": \"function\", \"function\": {\"name\": \"get_n_day_weather_forecast\"}}\n",
    ")\n",
    "chat_response.choices[0].message"
   ]
  },
  {
   "cell_type": "code",
   "execution_count": 32,
   "metadata": {},
   "outputs": [
    {
     "data": {
      "text/plain": [
       "[ChatCompletionMessageToolCall(id='call_0kVe2DrPVdbXE6q0LQF6NnIL', function=Function(arguments='{\"location\": \"San Francisco\", \"format\": \"celsius\", \"num_days\": 4}', name='get_n_day_weather_forecast'), type='function'),\n",
       " ChatCompletionMessageToolCall(id='call_6hLDY7WLlN2lPz7QKvG5rpGL', function=Function(arguments='{\"location\": \"Glasgow\", \"format\": \"celsius\", \"num_days\": 4}', name='get_n_day_weather_forecast'), type='function')]"
      ]
     },
     "execution_count": 32,
     "metadata": {},
     "output_type": "execute_result"
    }
   ],
   "source": [
    "messages = []\n",
    "messages.append({\"role\": \"system\", \"content\": \"Don't make assumptions about what values to plug into functions. Ask for clarification if a user request is ambiguous.\"})\n",
    "messages.append({\"role\": \"user\", \"content\": \"what is the weather going to be like in San Francisco and Glasgow over the next 4 days\"})\n",
    "chat_response = chat_completion_request(\n",
    "    messages, tools=tools, model=GPT_MODEL\n",
    ")\n",
    "\n",
    "assistant_message = chat_response.choices[0].message.tool_calls\n",
    "assistant_message"
   ]
  },
  {
   "cell_type": "code",
   "execution_count": null,
   "metadata": {},
   "outputs": [],
   "source": []
  },
  {
   "cell_type": "code",
   "execution_count": null,
   "metadata": {},
   "outputs": [],
   "source": []
  },
  {
   "cell_type": "code",
   "execution_count": null,
   "metadata": {},
   "outputs": [],
   "source": []
  },
  {
   "cell_type": "code",
   "execution_count": 8,
   "metadata": {},
   "outputs": [
    {
     "name": "stdout",
     "output_type": "stream",
     "text": [
      "[100, 3, 93, 81, 74, 54, 65, 51, 99, 35, 28, 16, 75, 48, 20, 17, 55, 43, 62]\n",
      "[100, 3, 93, 81, 74, 54, 65, 55, 99, 35, 28, 16, 75, 48, 20, 17, 51, 43, 62]\n",
      "[100, 3, 93, 81, 74, 75, 65, 55, 99, 35, 28, 16, 54, 48, 20, 17, 51, 43, 62]\n",
      "[100, 3, 93, 99, 74, 75, 65, 55, 81, 35, 28, 16, 54, 48, 20, 17, 51, 43, 62]\n",
      "[100, 99, 93, 3, 74, 75, 65, 55, 81, 35, 28, 16, 54, 48, 20, 17, 51, 43, 62]\n",
      "[100, 99, 93, 81, 74, 75, 65, 55, 3, 35, 28, 16, 54, 48, 20, 17, 51, 43, 62]\n",
      "[100, 99, 93, 81, 74, 75, 65, 55, 62, 35, 28, 16, 54, 48, 20, 17, 51, 43, 3]\n",
      "[99, 3, 93, 81, 74, 75, 65, 55, 62, 35, 28, 16, 54, 48, 20, 17, 51, 43, 100]\n",
      "[99, 81, 93, 3, 74, 75, 65, 55, 62, 35, 28, 16, 54, 48, 20, 17, 51, 43, 100]\n",
      "[99, 81, 93, 62, 74, 75, 65, 55, 3, 35, 28, 16, 54, 48, 20, 17, 51, 43, 100]\n",
      "[99, 81, 93, 62, 74, 75, 65, 55, 43, 35, 28, 16, 54, 48, 20, 17, 51, 3, 100]\n",
      "[93, 81, 3, 62, 74, 75, 65, 55, 43, 35, 28, 16, 54, 48, 20, 17, 51, 99, 100]\n",
      "[93, 81, 75, 62, 74, 3, 65, 55, 43, 35, 28, 16, 54, 48, 20, 17, 51, 99, 100]\n",
      "[93, 81, 75, 62, 74, 54, 65, 55, 43, 35, 28, 16, 3, 48, 20, 17, 51, 99, 100]\n",
      "[81, 51, 75, 62, 74, 54, 65, 55, 43, 35, 28, 16, 3, 48, 20, 17, 93, 99, 100]\n",
      "[81, 74, 75, 62, 51, 54, 65, 55, 43, 35, 28, 16, 3, 48, 20, 17, 93, 99, 100]\n",
      "[75, 74, 17, 62, 51, 54, 65, 55, 43, 35, 28, 16, 3, 48, 20, 81, 93, 99, 100]\n",
      "[75, 74, 65, 62, 51, 54, 17, 55, 43, 35, 28, 16, 3, 48, 20, 81, 93, 99, 100]\n",
      "[75, 74, 65, 62, 51, 54, 48, 55, 43, 35, 28, 16, 3, 17, 20, 81, 93, 99, 100]\n",
      "[74, 20, 65, 62, 51, 54, 48, 55, 43, 35, 28, 16, 3, 17, 75, 81, 93, 99, 100]\n",
      "[74, 62, 65, 20, 51, 54, 48, 55, 43, 35, 28, 16, 3, 17, 75, 81, 93, 99, 100]\n",
      "[74, 62, 65, 55, 51, 54, 48, 20, 43, 35, 28, 16, 3, 17, 75, 81, 93, 99, 100]\n",
      "[65, 62, 17, 55, 51, 54, 48, 20, 43, 35, 28, 16, 3, 74, 75, 81, 93, 99, 100]\n",
      "[65, 62, 54, 55, 51, 17, 48, 20, 43, 35, 28, 16, 3, 74, 75, 81, 93, 99, 100]\n",
      "[62, 3, 54, 55, 51, 17, 48, 20, 43, 35, 28, 16, 65, 74, 75, 81, 93, 99, 100]\n",
      "[62, 55, 54, 3, 51, 17, 48, 20, 43, 35, 28, 16, 65, 74, 75, 81, 93, 99, 100]\n",
      "[62, 55, 54, 43, 51, 17, 48, 20, 3, 35, 28, 16, 65, 74, 75, 81, 93, 99, 100]\n",
      "[55, 16, 54, 43, 51, 17, 48, 20, 3, 35, 28, 62, 65, 74, 75, 81, 93, 99, 100]\n",
      "[55, 51, 54, 43, 16, 17, 48, 20, 3, 35, 28, 62, 65, 74, 75, 81, 93, 99, 100]\n",
      "[55, 51, 54, 43, 35, 17, 48, 20, 3, 16, 28, 62, 65, 74, 75, 81, 93, 99, 100]\n",
      "[54, 51, 28, 43, 35, 17, 48, 20, 3, 16, 55, 62, 65, 74, 75, 81, 93, 99, 100]\n",
      "[54, 51, 48, 43, 35, 17, 28, 20, 3, 16, 55, 62, 65, 74, 75, 81, 93, 99, 100]\n",
      "[51, 16, 48, 43, 35, 17, 28, 20, 3, 54, 55, 62, 65, 74, 75, 81, 93, 99, 100]\n",
      "[51, 43, 48, 16, 35, 17, 28, 20, 3, 54, 55, 62, 65, 74, 75, 81, 93, 99, 100]\n",
      "[51, 43, 48, 20, 35, 17, 28, 16, 3, 54, 55, 62, 65, 74, 75, 81, 93, 99, 100]\n",
      "[48, 43, 3, 20, 35, 17, 28, 16, 51, 54, 55, 62, 65, 74, 75, 81, 93, 99, 100]\n",
      "[48, 43, 28, 20, 35, 17, 3, 16, 51, 54, 55, 62, 65, 74, 75, 81, 93, 99, 100]\n",
      "[43, 16, 28, 20, 35, 17, 3, 48, 51, 54, 55, 62, 65, 74, 75, 81, 93, 99, 100]\n",
      "[43, 35, 28, 20, 16, 17, 3, 48, 51, 54, 55, 62, 65, 74, 75, 81, 93, 99, 100]\n",
      "[35, 3, 28, 20, 16, 17, 43, 48, 51, 54, 55, 62, 65, 74, 75, 81, 93, 99, 100]\n",
      "[35, 20, 28, 3, 16, 17, 43, 48, 51, 54, 55, 62, 65, 74, 75, 81, 93, 99, 100]\n",
      "[28, 20, 17, 3, 16, 35, 43, 48, 51, 54, 55, 62, 65, 74, 75, 81, 93, 99, 100]\n",
      "[20, 16, 17, 3, 28, 35, 43, 48, 51, 54, 55, 62, 65, 74, 75, 81, 93, 99, 100]\n",
      "[17, 16, 3, 20, 28, 35, 43, 48, 51, 54, 55, 62, 65, 74, 75, 81, 93, 99, 100]\n",
      "[16, 3, 17, 20, 28, 35, 43, 48, 51, 54, 55, 62, 65, 74, 75, 81, 93, 99, 100]\n",
      "Heap Sort: [3, 16, 17, 20, 28, 35, 43, 48, 51, 54, 55, 62, 65, 74, 75, 81, 93, 99, 100]\n"
     ]
    }
   ],
   "source": [
    "def heapify(arr, n, i):\n",
    "    largest = i\n",
    "    l = 2 * i + 1\n",
    "    r = 2 * i + 2\n",
    "\n",
    "    if l < n and arr[i] < arr[l]:\n",
    "        largest = l\n",
    "\n",
    "    if r < n and arr[largest] < arr[r]:\n",
    "        largest = r\n",
    "\n",
    "    if largest != i:\n",
    "        arr[i], arr[largest] = arr[largest], arr[i]\n",
    "        print(arr)\n",
    "        heapify(arr, n, largest)\n",
    "\n",
    "def heap_sort(arr):\n",
    "    n = len(arr)\n",
    "    for i in range(n // 2 - 1, -1, -1):\n",
    "        heapify(arr, n, i)\n",
    "\n",
    "    for i in range(n-1, 0, -1):\n",
    "        arr[i], arr[0] = arr[0], arr[i]\n",
    "        heapify(arr, i, 0)\n",
    "    return arr\n",
    "\n",
    "l = [100, 3, 93, 81, 74, 54, 65, 51, 43, 35, 28, 16, 75, 48, 20, 17, 55, 99, 62]\n",
    "print(\"Heap Sort:\", heap_sort(l.copy()))\n"
   ]
  },
  {
   "cell_type": "code",
   "execution_count": 9,
   "metadata": {},
   "outputs": [
    {
     "data": {
      "text/plain": [
       "24"
      ]
     },
     "execution_count": 9,
     "metadata": {},
     "output_type": "execute_result"
    }
   ],
   "source": [
    "def fact(n):\n",
    "    if n<=1:\n",
    "        return 1\n",
    "    return n*fact(n-1)\n",
    "fact(4)"
   ]
  },
  {
   "cell_type": "code",
   "execution_count": 10,
   "metadata": {},
   "outputs": [
    {
     "data": {
      "text/plain": [
       "35"
      ]
     },
     "execution_count": 10,
     "metadata": {},
     "output_type": "execute_result"
    }
   ],
   "source": [
    "arr = [100, 3, 93, 81, 74, 54, 65, 51, 99, 35, 28, 16, 75, 48, 20, 17, 55, 43, 62]\n",
    "mid = arr[int(len(arr)/2)]\n",
    "print(mid)\n",
    "counter = 0\n",
    "def swap(counter,arr, mid):\n",
    "    if arr[counter]>mid:\n",
    "        arr\n"
   ]
  },
  {
   "cell_type": "code",
   "execution_count": 11,
   "metadata": {},
   "outputs": [
    {
     "data": {
      "text/plain": [
       "19"
      ]
     },
     "execution_count": 11,
     "metadata": {},
     "output_type": "execute_result"
    }
   ],
   "source": []
  },
  {
   "cell_type": "code",
   "execution_count": 1,
   "metadata": {},
   "outputs": [
    {
     "name": "stdout",
     "output_type": "stream",
     "text": [
      "{'rc': 0, 'message': 'SUCCESS', 'application': 'AMR', 'welcome_message': \"Now, track your electricity consumption on your phone! Xenius SEMS app allows you to monitor your consumption, recharge your prepaid meters online and also compare your electricity bills over time.What's more? This version of the app opens up possibilities of viewing your sanctioned load, setting notifications for Source Change, Low Balance, Power Cut / Restore and more.Facing any issues? Get connected with the support team through your Settings. We hope our app helps you track your electricity usage and optimise accordingly.\", 'app_base_url': 'www.myxenius.com', 'payment_trans': 'If the recharge is conducted using a Debit/Commercial/Corporate Card, MDR charges will be subtracted from the recharge amount', 'resource': {'android_version': '15', 'ios_version': '1', 'mobile_app_status': 'Y', 'location_id': '2121901', 'tp_token_id': '212190142a', 'ism_token': None, 'login_count': '226', 'device_app_ver': '1.0.5', 'flat_number': 'FF5', 'consumer_name': 'TEST ACCOUNT', 'consumer_mobile_no': '9711045404', 'consumer_email_id': 'indrajeet.prajapati@radius.co.in', 'balance_amount': '-77871.42', 'last_recharge_time': '2024-06-26 19:14:37', 'last_coupon_number': 'ZP2456362729141839516', 'last_coupon_amount': '100.00', 'dg_reading': '2063.0900', 'grid_reading': '7729.5400', 'last_reading_updated': '2018-11-27 15:29:51', 'notification_email': 'Y', 'notification_sms': 'N', 'notification_ivrs': 'Y', 'notification_app_load': 'Y', 'notification_app_balance': 'Y', 'low_bal_alert': '369', 'notification_app_esource': 'Y', 'notification_app_unit_consumption': 'N', 'alert_daily_consumption_grid': '2.000', 'alert_daily_consumption_dg': '2.000', 'load_setting_enabled': 'N', 'power_cut_restore_notification': 'Y', 'recharge_notification': 'Y', 'last_reading_alert_notification': 'N', 'grid_sanctioned_load': '9.00', 'dg_sanctioned_load': '5.00', 'load_unit': 'KW', 'meter_serial_no': '25403', 'meter_type': '1', 'grid_load_alarm': '0.000', 'dg_load_alarm': '0.000', 'grid_overload_setting': '255', 'dg_overload_setting': '0', 'grid_overload_from_time': '0000', 'grid_overload_to_time': '0000', 'dg_overload_from_time': '0000', 'dg_overload_to_time': '0000', 'overload_grid': 'Y', 'overload_dg': 'N', 'overview_fc_name': 'Fixed Charges', 'site_id': '54acdb8751ca65.28087018', 'site_name': 'H98 AMR DL Demo', 'site_address': 'Sector12', 'site_city': 'Lucknow', 'site_state': 'UP', 'site_country': 'India', 'site_zipcode': '201301', 'site_supervisor_name': 'Rahul', 'site_supervisor_contact_no': '8800569457', 'site_supervisor_email_id': 'akash.singhal@radius.co.in', 'site_support_concern_name': 'Satyam Tiwari', 'site_support_contact_no': '8800292709', 'site_support_email_id': 'indrajeet.prajapati@radius.co.in', 'main_license': None, 'application': 'AMR', 'reading_unit': 'kWh', 'currency': 'RS', 'site_code': '2121', 'soco_integration': 'Y', 'isociety_integration': 'N', 'isociety_site_id': 'N', 'balance_enable': 'Y', 'reading_enable': 'Y', 'monthly_bill_enable': 'Y', 'monthly_bill_no_of_month': '2', 'PLM': 'N', 'pg_enable': 'N', 'pg_enable_paytm': 'N', 'pg_enable_mobikwik': 'N', 'pg_enable_hdfc': 'N', 'paytm_mobile_url': 'http://m.p-y.tm/ggnprk', 'mobikwik_mobile_url': 'https://m.mobikwik.com/housing?siteCode=2121&cn=', 'pg_enable_hdfc_v1': 'Y', 'pg_enable_v1': 'Y', 'pg_enable_paytm_v1': 'N', 'pg_enable_mobikwik_v1': 'N', 'recharge_transitional_charge': '0.00', 'recharge_tax': '0.00', 'paytm_image': '', 'min_recharge': '1.00', 'max_recharge': '200000.00', 'recharge_transitional_name': 'IGST(18%)', 'recharge_popup_message': 'T', 'pg_popup_msg': 'Y', 'MygateIntegration': 'N', 'evcdIntegration': 'N', 'evcdId': '', 'evcdDGIntegration': 'Y', 'evcdURL': 'https://radiusm2m.com', 'MygatePackageNameAndroid': 'N', 'MygatePackageNameIOS': 'N', 'current_status': 'Overload GRID', 'energy_source': 'DG', 'last_reading_updated_dg': '2022-01-18 15:56:17', 'display_load_setting_screen': 'N', 'daily_dg_unit': '0', 'daily_grid_unit': '0', 'monthly_dg_unit': 0, 'monthly_grid_unit': 0, 'daily_dg_amount': 0, 'daily_grid_amount': 0, 'fix_charges_monthly': 847.52, 'monthly_dg_amount': 0, 'monthly_grid_amount': 0, 'fix_charges': 0, 'dr_cr': '0.00', 'dr_cr_monthly': '0.00', 'autorefresh': 5, 'monthly_bill_key': 'Monthly Statement', 'msg': 'Stay Home. Stay Safe. Recharge Electricity Online ', 'web_url': 'https://vapt-mp.myxenius.com/AppAMR/HdfcRechargeView/MjEyMTkwMQ==/UmFkaXVzQDEyMzQ=/MS4wMA==/MjAwMDAwLjAw/MC4wMA==/MC4wMA==', 'pic1': 'https://myxenius.com/app_images/pic1.png', 'pic2': 'https://myxenius.com/app_images/pic2.png', 'pic3': 'https://myxenius.com/app_images/pic3.png', 'pic4': 'https://myxenius.com/app_images/pic4.png'}}\n"
     ]
    }
   ],
   "source": [
    "import requests\n",
    "import os\n",
    "\n",
    "def monthly_data():\n",
    "        \"\"\" monthly data\"\"\"\n",
    "        try:\n",
    "            url = os.getenv(\"login_api\")\n",
    "            response = requests.get(url)\n",
    "            if response.status_code == 200:\n",
    "                print(response.json())\n",
    "                # logger.info(\"monthly data fetched\")\n",
    "                return response.json()\n",
    "        except Exception as e:\n",
    "            # logger.info(\"error in monthly data fetching\",e)\n",
    "            print(e)\n",
    "\n",
    "data = monthly_data()"
   ]
  },
  {
   "cell_type": "code",
   "execution_count": 4,
   "metadata": {},
   "outputs": [],
   "source": []
  },
  {
   "cell_type": "code",
   "execution_count": 8,
   "metadata": {},
   "outputs": [],
   "source": [
    "output = data['resource']\n",
    "values = {}\n",
    "if float(output['balance_amount'])<0:\n",
    "    values['balance'] = output['balance_amount']\n",
    "if output['overload_grid']in [\"y\", \"Y\"]:\n",
    "    values[\"overload_grid\"] = output['overload_grid'],\n",
    "elif output['overload_dg']in [\"y\", \"Y\"]:\n",
    "    values[\"overload_dg\"]= output['overload_dg']"
   ]
  },
  {
   "cell_type": "code",
   "execution_count": 9,
   "metadata": {},
   "outputs": [
    {
     "data": {
      "text/plain": [
       "{'balance': '-77871.42', 'overload_grid': ('Y',)}"
      ]
     },
     "execution_count": 9,
     "metadata": {},
     "output_type": "execute_result"
    }
   ],
   "source": [
    "values"
   ]
  },
  {
   "cell_type": "code",
   "execution_count": 13,
   "metadata": {},
   "outputs": [
    {
     "name": "stdout",
     "output_type": "stream",
     "text": [
      "{0: 10, 1: 11.0, 2: 12.1, 3: 13.31, 4: 14.64, 5: 16.11, 6: 17.72, 7: 19.49, 8: 21.44, 9: 23.58, 10: 25.94, 11: 28.53, 12: 31.38, 13: 34.52, 14: 37.97, 15: 41.77, 16: 45.95, 17: 50.54, 18: 55.6, 19: 61.16, 20: 67.27, 21: 74.0, 22: 81.4, 23: 89.54, 24: 98.5}\n"
     ]
    }
   ],
   "source": [
    "n = 10\n",
    "l = {0:10}\n",
    "for i in range(1,25):\n",
    "    n = n + ((n*10)/100)\n",
    "    l[i] = round(n, 2)\n",
    "print(l)"
   ]
  },
  {
   "cell_type": "code",
   "execution_count": 14,
   "metadata": {},
   "outputs": [
    {
     "data": {
      "text/plain": [
       "{0: 10,\n",
       " 1: 11.0,\n",
       " 2: 12.1,\n",
       " 3: 13.31,\n",
       " 4: 14.64,\n",
       " 5: 16.11,\n",
       " 6: 17.72,\n",
       " 7: 19.49,\n",
       " 8: 21.44,\n",
       " 9: 23.58,\n",
       " 10: 25.94,\n",
       " 11: 28.53,\n",
       " 12: 31.38,\n",
       " 13: 34.52,\n",
       " 14: 37.97,\n",
       " 15: 41.77,\n",
       " 16: 45.95,\n",
       " 17: 50.54,\n",
       " 18: 55.6,\n",
       " 19: 61.16,\n",
       " 20: 67.27,\n",
       " 21: 74.0,\n",
       " 22: 81.4,\n",
       " 23: 89.54,\n",
       " 24: 98.5}"
      ]
     },
     "execution_count": 14,
     "metadata": {},
     "output_type": "execute_result"
    }
   ],
   "source": [
    "l"
   ]
  },
  {
   "cell_type": "code",
   "execution_count": 8,
   "metadata": {},
   "outputs": [],
   "source": [
    "import matplotlib.pyplot as plt\n"
   ]
  },
  {
   "cell_type": "code",
   "execution_count": 11,
   "metadata": {},
   "outputs": [
    {
     "data": {
      "image/png": "[encoded data removed]",
      "text/plain": [
       "<Figure size 640x480 with 1 Axes>"
      ]
     },
     "metadata": {},
     "output_type": "display_data"
    }
   ],
   "source": [
    "plt.plot(l.keys(),l.values())\n",
    "plt.show()"
   ]
  },
  {
   "cell_type": "code",
   "execution_count": null,
   "metadata": {},
   "outputs": [],
   "source": []
  }
 ],
 "metadata": {
  "kernelspec": {
   "display_name": "botenv",
   "language": "python",
   "name": "python3"
  },
  "language_info": {
   "codemirror_mode": {
    "name": "ipython",
    "version": 3
   },
   "file_extension": ".py",
   "mimetype": "text/x-python",
   "name": "python",
   "nbconvert_exporter": "python",
   "pygments_lexer": "ipython3",
   "version": "3.11.6"
  }
 },
 "nbformat": 4,
 "nbformat_minor": 2
}
