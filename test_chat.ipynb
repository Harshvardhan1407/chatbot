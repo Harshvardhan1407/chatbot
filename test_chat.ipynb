{
 "cells": [
  {
   "cell_type": "code",
   "execution_count": 2,
   "metadata": {},
   "outputs": [
    {
     "data": {
      "text/plain": [
       "True"
      ]
     },
     "execution_count": 2,
     "metadata": {},
     "output_type": "execute_result"
    }
   ],
   "source": [
    "import pandas as pd\n",
    "import requests\n",
    "import json\n",
    "import re\n",
    "import os\n",
    "from dotenv import load_dotenv\n",
    "\n",
    "load_dotenv()"
   ]
  },
  {
   "cell_type": "code",
   "execution_count": 5,
   "metadata": {},
   "outputs": [],
   "source": [
    "class openai:\n",
    "    def __init__(self) -> None:\n",
    "        pass\n",
    "\n",
    "    def consumer_details(self):\n",
    "        try:\n",
    "            \"\"\"get consumer details\"\"\"\n",
    "            url = os.getenv(\"login_api\") \n",
    "            response = requests.get(url )\n",
    "\n",
    "            if response.status_code == 200:\n",
    "                print(\"consumer details success\")\n",
    "                return response.json() \n",
    "        except Exception as e:\n",
    "            print(\"consumer details error:\", e)\n",
    "\n",
    "    def get_population(self,year):\n",
    "        \"\"\"get usa population\"\"\"\n",
    "        url = \"https://datausa.io/api/data?drilldowns=Nation&measures=Population\"\n",
    "        response = requests.get(url )\n",
    "    \n",
    "        if response.status_code == 200:\n",
    "            # print(\"Success:\", response.json())\n",
    "            print(\"usa popluation data success\")\n",
    "            return response.json()\n",
    "        else:\n",
    "            print(\"Error in api:\", response.status_code, response.text)\n",
    "    \n",
    "    def get_current_weather(self, location, unit=\"celcius\"):\n",
    "        \"\"\"Get the current weather in a given location\"\"\"\n",
    "        if \"tokyo\" in location.lower():\n",
    "            return json.dumps({\"location\": \"Tokyo\", \"temperature\": \"10\", \"unit\": unit})\n",
    "        elif \"san francisco\" in location.lower():\n",
    "            return json.dumps({\"location\": \"San Francisco\", \"temperature\": \"32\", \"unit\": unit})\n",
    "        elif \"paris\" in location.lower():\n",
    "            return json.dumps({\"location\": \"Paris\", \"temperature\": \"22\", \"unit\": unit})\n",
    "        else:\n",
    "            return json.dumps({\"location\": location, \"temperature\": \"unknown\"})\n",
    "        \n",
    "    def format_currency_as_rupees(self,response):\n",
    "        # Use regex to find and replace dollar amounts with rupees\n",
    "        return re.sub(r'\\$\\s*([\\d,]+(?:\\.\\d+)?)', r'₹\\1', response)"
   ]
  },
  {
   "cell_type": "code",
   "execution_count": 6,
   "metadata": {},
   "outputs": [
    {
     "name": "stdout",
     "output_type": "stream",
     "text": [
      "consumer details success\n"
     ]
    },
    {
     "data": {
      "text/plain": [
       "dict_keys(['rc', 'message', 'application', 'welcome_message', 'app_base_url', 'payment_trans', 'resource'])"
      ]
     },
     "execution_count": 6,
     "metadata": {},
     "output_type": "execute_result"
    }
   ],
   "source": [
    "data = openai()\n",
    "output = data.consumer_details()\n",
    "output.keys()"
   ]
  },
  {
   "cell_type": "code",
   "execution_count": 7,
   "metadata": {},
   "outputs": [
    {
     "data": {
      "text/plain": [
       "{'consumer_name': 'TEST ACCOUNT',\n",
       " 'consumer_mobile_no': '9711045404',\n",
       " 'consumer_email_id': 'indrajeet.prajapati@radius.co.in',\n",
       " 'balance_amount': '-77871.42',\n",
       " 'last_recharge_time': '2024-06-26 19:14:37',\n",
       " 'last_coupon_number': 'ZP2456362729141839516',\n",
       " 'last_coupon_amount': '100.00',\n",
       " 'dg_reading': '2063.0900',\n",
       " 'grid_reading': '7729.5400',\n",
       " 'grid_sanctioned_load': '9.00'}"
      ]
     },
     "execution_count": 7,
     "metadata": {},
     "output_type": "execute_result"
    }
   ],
   "source": [
    "keys_to_fetch = ['consumer_name',\"consumer_mobile_no\",\"consumer_email_id\",\"balance_amount\",'last_recharge_time', 'last_coupon_number', 'last_coupon_amount','dg_reading', 'grid_reading',\"grid_sanctioned_load\",]\n",
    "{key: output['resource'][key] for key in keys_to_fetch}"
   ]
  },
  {
   "cell_type": "code",
   "execution_count": 8,
   "metadata": {},
   "outputs": [],
   "source": [
    "fetched_data = {key: output['resource'][key] for key in keys_to_fetch}\n"
   ]
  },
  {
   "cell_type": "code",
   "execution_count": 16,
   "metadata": {},
   "outputs": [
    {
     "data": {
      "text/plain": [
       "{'consumer_name': 'TEST ACCOUNT',\n",
       " 'consumer_mobile_no': '9711045404',\n",
       " 'consumer_email_id': 'indrajeet.prajapati@radius.co.in',\n",
       " 'balance_amount': '-77871.42',\n",
       " 'last_recharge_time': '2024-06-26 19:14:37',\n",
       " 'last_coupon_number': 'ZP2456362729141839516',\n",
       " 'last_coupon_amount': '100.00',\n",
       " 'dg_reading': '2063.0900',\n",
       " 'grid_reading': '7729.5400',\n",
       " 'grid_sanctioned_load': '9.00'}"
      ]
     },
     "execution_count": 16,
     "metadata": {},
     "output_type": "execute_result"
    }
   ],
   "source": [
    "fetched_data"
   ]
  },
  {
   "cell_type": "code",
   "execution_count": 9,
   "metadata": {},
   "outputs": [
    {
     "data": {
      "text/plain": [
       "dict_keys(['android_version', 'ios_version', 'mobile_app_status', 'location_id', 'tp_token_id', 'ism_token', 'login_count', 'device_app_ver', 'flat_number', 'consumer_name', 'consumer_mobile_no', 'consumer_email_id', 'balance_amount', 'last_recharge_time', 'last_coupon_number', 'last_coupon_amount', 'dg_reading', 'grid_reading', 'last_reading_updated', 'notification_email', 'notification_sms', 'notification_ivrs', 'notification_app_load', 'notification_app_balance', 'low_bal_alert', 'notification_app_esource', 'notification_app_unit_consumption', 'alert_daily_consumption_grid', 'alert_daily_consumption_dg', 'load_setting_enabled', 'power_cut_restore_notification', 'recharge_notification', 'last_reading_alert_notification', 'grid_sanctioned_load', 'dg_sanctioned_load', 'load_unit', 'meter_serial_no', 'meter_type', 'grid_load_alarm', 'dg_load_alarm', 'grid_overload_setting', 'dg_overload_setting', 'grid_overload_from_time', 'grid_overload_to_time', 'dg_overload_from_time', 'dg_overload_to_time', 'overload_grid', 'overload_dg', 'overview_fc_name', 'site_id', 'site_name', 'site_address', 'site_city', 'site_state', 'site_country', 'site_zipcode', 'site_supervisor_name', 'site_supervisor_contact_no', 'site_supervisor_email_id', 'site_support_concern_name', 'site_support_contact_no', 'site_support_email_id', 'main_license', 'application', 'reading_unit', 'currency', 'site_code', 'soco_integration', 'isociety_integration', 'isociety_site_id', 'balance_enable', 'reading_enable', 'monthly_bill_enable', 'monthly_bill_no_of_month', 'PLM', 'pg_enable', 'pg_enable_paytm', 'pg_enable_mobikwik', 'pg_enable_hdfc', 'paytm_mobile_url', 'mobikwik_mobile_url', 'pg_enable_hdfc_v1', 'pg_enable_v1', 'pg_enable_paytm_v1', 'pg_enable_mobikwik_v1', 'recharge_transitional_charge', 'recharge_tax', 'paytm_image', 'min_recharge', 'max_recharge', 'recharge_transitional_name', 'recharge_popup_message', 'pg_popup_msg', 'MygateIntegration', 'evcdIntegration', 'evcdId', 'evcdDGIntegration', 'evcdURL', 'MygatePackageNameAndroid', 'MygatePackageNameIOS', 'current_status', 'energy_source', 'last_reading_updated_dg', 'display_load_setting_screen', 'daily_dg_unit', 'daily_grid_unit', 'monthly_dg_unit', 'monthly_grid_unit', 'daily_dg_amount', 'daily_grid_amount', 'fix_charges_monthly', 'monthly_dg_amount', 'monthly_grid_amount', 'fix_charges', 'dr_cr', 'dr_cr_monthly', 'autorefresh', 'monthly_bill_key', 'msg', 'web_url', 'pic1', 'pic2', 'pic3', 'pic4'])"
      ]
     },
     "execution_count": 9,
     "metadata": {},
     "output_type": "execute_result"
    }
   ],
   "source": [
    "output['resource'].keys()"
   ]
  },
  {
   "cell_type": "code",
   "execution_count": 10,
   "metadata": {},
   "outputs": [
    {
     "data": {
      "text/plain": [
       "{'android_version': '15',\n",
       " 'ios_version': '1',\n",
       " 'mobile_app_status': 'Y',\n",
       " 'location_id': '2121901',\n",
       " 'tp_token_id': '212190142a',\n",
       " 'ism_token': None,\n",
       " 'login_count': '226',\n",
       " 'device_app_ver': '1.0.5',\n",
       " 'flat_number': 'FF5',\n",
       " 'consumer_name': 'TEST ACCOUNT',\n",
       " 'consumer_mobile_no': '9711045404',\n",
       " 'consumer_email_id': 'indrajeet.prajapati@radius.co.in',\n",
       " 'balance_amount': '-77871.42',\n",
       " 'last_recharge_time': '2024-06-26 19:14:37',\n",
       " 'last_coupon_number': 'ZP2456362729141839516',\n",
       " 'last_coupon_amount': '100.00',\n",
       " 'dg_reading': '2063.0900',\n",
       " 'grid_reading': '7729.5400',\n",
       " 'last_reading_updated': '2018-11-27 15:29:51',\n",
       " 'notification_email': 'Y',\n",
       " 'notification_sms': 'N',\n",
       " 'notification_ivrs': 'Y',\n",
       " 'notification_app_load': 'Y',\n",
       " 'notification_app_balance': 'Y',\n",
       " 'low_bal_alert': '369',\n",
       " 'notification_app_esource': 'Y',\n",
       " 'notification_app_unit_consumption': 'N',\n",
       " 'alert_daily_consumption_grid': '2.000',\n",
       " 'alert_daily_consumption_dg': '2.000',\n",
       " 'load_setting_enabled': 'N',\n",
       " 'power_cut_restore_notification': 'Y',\n",
       " 'recharge_notification': 'Y',\n",
       " 'last_reading_alert_notification': 'N',\n",
       " 'grid_sanctioned_load': '9.00',\n",
       " 'dg_sanctioned_load': '5.00',\n",
       " 'load_unit': 'KW',\n",
       " 'meter_serial_no': '25403',\n",
       " 'meter_type': '1',\n",
       " 'grid_load_alarm': '0.000',\n",
       " 'dg_load_alarm': '0.000',\n",
       " 'grid_overload_setting': '255',\n",
       " 'dg_overload_setting': '0',\n",
       " 'grid_overload_from_time': '0000',\n",
       " 'grid_overload_to_time': '0000',\n",
       " 'dg_overload_from_time': '0000',\n",
       " 'dg_overload_to_time': '0000',\n",
       " 'overload_grid': 'Y',\n",
       " 'overload_dg': 'N',\n",
       " 'overview_fc_name': 'Fixed Charges',\n",
       " 'site_id': '54acdb8751ca65.28087018',\n",
       " 'site_name': 'H98 AMR DL Demo',\n",
       " 'site_address': 'Sector12',\n",
       " 'site_city': 'Lucknow',\n",
       " 'site_state': 'UP',\n",
       " 'site_country': 'India',\n",
       " 'site_zipcode': '201301',\n",
       " 'site_supervisor_name': 'Rahul',\n",
       " 'site_supervisor_contact_no': '8800569457',\n",
       " 'site_supervisor_email_id': 'akash.singhal@radius.co.in',\n",
       " 'site_support_concern_name': 'Satyam Tiwari',\n",
       " 'site_support_contact_no': '8800292709',\n",
       " 'site_support_email_id': 'indrajeet.prajapati@radius.co.in',\n",
       " 'main_license': None,\n",
       " 'application': 'AMR',\n",
       " 'reading_unit': 'kWh',\n",
       " 'currency': 'RS',\n",
       " 'site_code': '2121',\n",
       " 'soco_integration': 'Y',\n",
       " 'isociety_integration': 'N',\n",
       " 'isociety_site_id': 'N',\n",
       " 'balance_enable': 'Y',\n",
       " 'reading_enable': 'Y',\n",
       " 'monthly_bill_enable': 'Y',\n",
       " 'monthly_bill_no_of_month': '2',\n",
       " 'PLM': 'N',\n",
       " 'pg_enable': 'N',\n",
       " 'pg_enable_paytm': 'N',\n",
       " 'pg_enable_mobikwik': 'N',\n",
       " 'pg_enable_hdfc': 'N',\n",
       " 'paytm_mobile_url': 'http://m.p-y.tm/ggnprk',\n",
       " 'mobikwik_mobile_url': 'https://m.mobikwik.com/housing?siteCode=2121&cn=',\n",
       " 'pg_enable_hdfc_v1': 'Y',\n",
       " 'pg_enable_v1': 'Y',\n",
       " 'pg_enable_paytm_v1': 'N',\n",
       " 'pg_enable_mobikwik_v1': 'N',\n",
       " 'recharge_transitional_charge': '0.00',\n",
       " 'recharge_tax': '0.00',\n",
       " 'paytm_image': '',\n",
       " 'min_recharge': '1.00',\n",
       " 'max_recharge': '200000.00',\n",
       " 'recharge_transitional_name': 'IGST(18%)',\n",
       " 'recharge_popup_message': 'T',\n",
       " 'pg_popup_msg': 'Y',\n",
       " 'MygateIntegration': 'N',\n",
       " 'evcdIntegration': 'N',\n",
       " 'evcdId': '',\n",
       " 'evcdDGIntegration': 'Y',\n",
       " 'evcdURL': 'https://radiusm2m.com',\n",
       " 'MygatePackageNameAndroid': 'N',\n",
       " 'MygatePackageNameIOS': 'N',\n",
       " 'current_status': 'Overload GRID',\n",
       " 'energy_source': 'DG',\n",
       " 'last_reading_updated_dg': '2022-01-18 15:56:17',\n",
       " 'display_load_setting_screen': 'N',\n",
       " 'daily_dg_unit': '0',\n",
       " 'daily_grid_unit': '0',\n",
       " 'monthly_dg_unit': 0,\n",
       " 'monthly_grid_unit': 0,\n",
       " 'daily_dg_amount': 0,\n",
       " 'daily_grid_amount': 0,\n",
       " 'fix_charges_monthly': 0,\n",
       " 'monthly_dg_amount': 0,\n",
       " 'monthly_grid_amount': 0,\n",
       " 'fix_charges': 0,\n",
       " 'dr_cr': '0.00',\n",
       " 'dr_cr_monthly': 0,\n",
       " 'autorefresh': 5,\n",
       " 'monthly_bill_key': 'Monthly Statement',\n",
       " 'msg': 'Stay Home. Stay Safe. Recharge Electricity Online ',\n",
       " 'web_url': 'https://vapt-mp.myxenius.com/AppAMR/HdfcRechargeView/MjEyMTkwMQ==/UmFkaXVzQDEyMzQ=/MS4wMA==/MjAwMDAwLjAw/MC4wMA==/MC4wMA==',\n",
       " 'pic1': 'https://myxenius.com/app_images/pic1.png',\n",
       " 'pic2': 'https://myxenius.com/app_images/pic2.png',\n",
       " 'pic3': 'https://myxenius.com/app_images/pic3.png',\n",
       " 'pic4': 'https://myxenius.com/app_images/pic4.png'}"
      ]
     },
     "execution_count": 10,
     "metadata": {},
     "output_type": "execute_result"
    }
   ],
   "source": [
    "output['resource']"
   ]
  },
  {
   "cell_type": "code",
   "execution_count": null,
   "metadata": {},
   "outputs": [],
   "source": []
  }
 ],
 "metadata": {
  "kernelspec": {
   "display_name": "botenv",
   "language": "python",
   "name": "python3"
  },
  "language_info": {
   "codemirror_mode": {
    "name": "ipython",
    "version": 3
   },
   "file_extension": ".py",
   "mimetype": "text/x-python",
   "name": "python",
   "nbconvert_exporter": "python",
   "pygments_lexer": "ipython3",
   "version": "3.11.6"
  }
 },
 "nbformat": 4,
 "nbformat_minor": 2
}
